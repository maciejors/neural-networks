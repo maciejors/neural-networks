{
 "cells": [
  {
   "cell_type": "code",
   "execution_count": 1,
   "metadata": {},
   "outputs": [],
   "source": [
    "import numpy as np\n",
    "import numpy.typing as nptyping\n",
    "import pandas as pd\n",
    "import matplotlib.pyplot as plt"
   ]
  },
  {
   "attachments": {},
   "cell_type": "markdown",
   "metadata": {},
   "source": [
    "# Datasets"
   ]
  },
  {
   "attachments": {},
   "cell_type": "markdown",
   "metadata": {},
   "source": [
    "## `square_simple`"
   ]
  },
  {
   "cell_type": "code",
   "execution_count": 2,
   "metadata": {},
   "outputs": [],
   "source": [
    "square_train = pd.read_csv('data/regression/square-simple-training.csv').drop(columns='Unnamed: 0')\n",
    "square_test = pd.read_csv('data/regression/square-simple-test.csv').drop(columns='Unnamed: 0')"
   ]
  },
  {
   "cell_type": "code",
   "execution_count": 3,
   "metadata": {},
   "outputs": [
    {
     "name": "stdout",
     "output_type": "stream",
     "text": [
      "(100, 2)\n",
      "(100, 2)\n"
     ]
    }
   ],
   "source": [
    "print(square_train.shape)\n",
    "print(square_test.shape)"
   ]
  },
  {
   "cell_type": "code",
   "execution_count": 4,
   "metadata": {},
   "outputs": [
    {
     "name": "stdout",
     "output_type": "stream",
     "text": [
      "<class 'pandas.core.frame.DataFrame'>\n",
      "RangeIndex: 100 entries, 0 to 99\n",
      "Data columns (total 2 columns):\n",
      " #   Column  Non-Null Count  Dtype  \n",
      "---  ------  --------------  -----  \n",
      " 0   x       100 non-null    float64\n",
      " 1   y       100 non-null    float64\n",
      "dtypes: float64(2)\n",
      "memory usage: 1.7 KB\n"
     ]
    }
   ],
   "source": [
    "square_train.info()"
   ]
  },
  {
   "cell_type": "code",
   "execution_count": 5,
   "metadata": {},
   "outputs": [
    {
     "data": {
      "text/html": [
       "<div>\n",
       "<style scoped>\n",
       "    .dataframe tbody tr th:only-of-type {\n",
       "        vertical-align: middle;\n",
       "    }\n",
       "\n",
       "    .dataframe tbody tr th {\n",
       "        vertical-align: top;\n",
       "    }\n",
       "\n",
       "    .dataframe thead th {\n",
       "        text-align: right;\n",
       "    }\n",
       "</style>\n",
       "<table border=\"1\" class=\"dataframe\">\n",
       "  <thead>\n",
       "    <tr style=\"text-align: right;\">\n",
       "      <th></th>\n",
       "      <th>x</th>\n",
       "      <th>y</th>\n",
       "    </tr>\n",
       "  </thead>\n",
       "  <tbody>\n",
       "    <tr>\n",
       "      <th>count</th>\n",
       "      <td>100.000000</td>\n",
       "      <td>100.000000</td>\n",
       "    </tr>\n",
       "    <tr>\n",
       "      <th>mean</th>\n",
       "      <td>0.335393</td>\n",
       "      <td>-30.558884</td>\n",
       "    </tr>\n",
       "    <tr>\n",
       "      <th>std</th>\n",
       "      <td>1.001218</td>\n",
       "      <td>96.260228</td>\n",
       "    </tr>\n",
       "    <tr>\n",
       "      <th>min</th>\n",
       "      <td>-1.499164</td>\n",
       "      <td>-129.988852</td>\n",
       "    </tr>\n",
       "    <tr>\n",
       "      <th>25%</th>\n",
       "      <td>-0.461426</td>\n",
       "      <td>-107.395163</td>\n",
       "    </tr>\n",
       "    <tr>\n",
       "      <th>50%</th>\n",
       "      <td>0.494938</td>\n",
       "      <td>-67.036576</td>\n",
       "    </tr>\n",
       "    <tr>\n",
       "      <th>75%</th>\n",
       "      <td>1.108129</td>\n",
       "      <td>37.700438</td>\n",
       "    </tr>\n",
       "    <tr>\n",
       "      <th>max</th>\n",
       "      <td>1.939860</td>\n",
       "      <td>208.675181</td>\n",
       "    </tr>\n",
       "  </tbody>\n",
       "</table>\n",
       "</div>"
      ],
      "text/plain": [
       "                x           y\n",
       "count  100.000000  100.000000\n",
       "mean     0.335393  -30.558884\n",
       "std      1.001218   96.260228\n",
       "min     -1.499164 -129.988852\n",
       "25%     -0.461426 -107.395163\n",
       "50%      0.494938  -67.036576\n",
       "75%      1.108129   37.700438\n",
       "max      1.939860  208.675181"
      ]
     },
     "execution_count": 5,
     "metadata": {},
     "output_type": "execute_result"
    }
   ],
   "source": [
    "square_train.describe()"
   ]
  },
  {
   "cell_type": "code",
   "execution_count": 6,
   "metadata": {},
   "outputs": [
    {
     "data": {
      "image/png": "[encoded data removed]",
      "text/plain": [
       "<Figure size 720x576 with 1 Axes>"
      ]
     },
     "metadata": {
      "needs_background": "light"
     },
     "output_type": "display_data"
    }
   ],
   "source": [
    "plt.figure(figsize=(10, 8))\n",
    "plt.scatter(square_train['x'], square_train['y'], color='blue')\n",
    "plt.show()"
   ]
  },
  {
   "attachments": {},
   "cell_type": "markdown",
   "metadata": {},
   "source": [
    "## `steps_large`"
   ]
  },
  {
   "cell_type": "code",
   "execution_count": 7,
   "metadata": {},
   "outputs": [],
   "source": [
    "steps_train = pd.read_csv('data/regression/steps-large-training.csv').drop(columns='Unnamed: 0')\n",
    "steps_test = pd.read_csv('data/regression/steps-large-test.csv').drop(columns='Unnamed: 0')"
   ]
  },
  {
   "cell_type": "code",
   "execution_count": 8,
   "metadata": {},
   "outputs": [
    {
     "name": "stdout",
     "output_type": "stream",
     "text": [
      "(10000, 2)\n",
      "(1000, 2)\n"
     ]
    }
   ],
   "source": [
    "print(steps_train.shape)\n",
    "print(steps_test.shape)"
   ]
  },
  {
   "cell_type": "code",
   "execution_count": 9,
   "metadata": {},
   "outputs": [
    {
     "name": "stdout",
     "output_type": "stream",
     "text": [
      "<class 'pandas.core.frame.DataFrame'>\n",
      "RangeIndex: 10000 entries, 0 to 9999\n",
      "Data columns (total 2 columns):\n",
      " #   Column  Non-Null Count  Dtype  \n",
      "---  ------  --------------  -----  \n",
      " 0   x       10000 non-null  float64\n",
      " 1   y       10000 non-null  int64  \n",
      "dtypes: float64(1), int64(1)\n",
      "memory usage: 156.4 KB\n"
     ]
    }
   ],
   "source": [
    "steps_train.info()"
   ]
  },
  {
   "cell_type": "code",
   "execution_count": 10,
   "metadata": {},
   "outputs": [
    {
     "data": {
      "text/html": [
       "<div>\n",
       "<style scoped>\n",
       "    .dataframe tbody tr th:only-of-type {\n",
       "        vertical-align: middle;\n",
       "    }\n",
       "\n",
       "    .dataframe tbody tr th {\n",
       "        vertical-align: top;\n",
       "    }\n",
       "\n",
       "    .dataframe thead th {\n",
       "        text-align: right;\n",
       "    }\n",
       "</style>\n",
       "<table border=\"1\" class=\"dataframe\">\n",
       "  <thead>\n",
       "    <tr style=\"text-align: right;\">\n",
       "      <th></th>\n",
       "      <th>x</th>\n",
       "      <th>y</th>\n",
       "    </tr>\n",
       "  </thead>\n",
       "  <tbody>\n",
       "    <tr>\n",
       "      <th>count</th>\n",
       "      <td>10000.000000</td>\n",
       "      <td>10000.000000</td>\n",
       "    </tr>\n",
       "    <tr>\n",
       "      <th>mean</th>\n",
       "      <td>0.255711</td>\n",
       "      <td>23.504000</td>\n",
       "    </tr>\n",
       "    <tr>\n",
       "      <th>std</th>\n",
       "      <td>1.017797</td>\n",
       "      <td>82.643844</td>\n",
       "    </tr>\n",
       "    <tr>\n",
       "      <th>min</th>\n",
       "      <td>-1.498693</td>\n",
       "      <td>-80.000000</td>\n",
       "    </tr>\n",
       "    <tr>\n",
       "      <th>25%</th>\n",
       "      <td>-0.633734</td>\n",
       "      <td>-80.000000</td>\n",
       "    </tr>\n",
       "    <tr>\n",
       "      <th>50%</th>\n",
       "      <td>0.271821</td>\n",
       "      <td>0.000000</td>\n",
       "    </tr>\n",
       "    <tr>\n",
       "      <th>75%</th>\n",
       "      <td>1.135860</td>\n",
       "      <td>80.000000</td>\n",
       "    </tr>\n",
       "    <tr>\n",
       "      <th>max</th>\n",
       "      <td>1.999734</td>\n",
       "      <td>160.000000</td>\n",
       "    </tr>\n",
       "  </tbody>\n",
       "</table>\n",
       "</div>"
      ],
      "text/plain": [
       "                  x             y\n",
       "count  10000.000000  10000.000000\n",
       "mean       0.255711     23.504000\n",
       "std        1.017797     82.643844\n",
       "min       -1.498693    -80.000000\n",
       "25%       -0.633734    -80.000000\n",
       "50%        0.271821      0.000000\n",
       "75%        1.135860     80.000000\n",
       "max        1.999734    160.000000"
      ]
     },
     "execution_count": 10,
     "metadata": {},
     "output_type": "execute_result"
    }
   ],
   "source": [
    "steps_train.describe()"
   ]
  },
  {
   "cell_type": "code",
   "execution_count": 11,
   "metadata": {},
   "outputs": [
    {
     "data": {
      "image/png": "[encoded data removed]",
      "text/plain": [
       "<Figure size 720x576 with 1 Axes>"
      ]
     },
     "metadata": {
      "needs_background": "light"
     },
     "output_type": "display_data"
    }
   ],
   "source": [
    "plt.figure(figsize=(10, 8))\n",
    "plt.scatter(steps_train['x'], steps_train['y'], color='blue')\n",
    "plt.show()"
   ]
  },
  {
   "cell_type": "code",
   "execution_count": 12,
   "metadata": {},
   "outputs": [
    {
     "data": {
      "text/plain": [
       " 80     2928\n",
       "-80     2862\n",
       " 0      2774\n",
       " 160    1436\n",
       "Name: y, dtype: int64"
      ]
     },
     "execution_count": 12,
     "metadata": {},
     "output_type": "execute_result"
    }
   ],
   "source": [
    "steps_train['y'].value_counts()"
   ]
  },
  {
   "attachments": {},
   "cell_type": "markdown",
   "metadata": {},
   "source": [
    "## Convert data to column arrays to prevent errors when predicting:"
   ]
  },
  {
   "cell_type": "code",
   "execution_count": 13,
   "metadata": {},
   "outputs": [],
   "source": [
    "x_square_train = square_train['x'].to_numpy().reshape((100, 1))\n",
    "y_square_train = square_train['y'].to_numpy().reshape((100, 1))\n",
    "x_square_test = square_test['x'].to_numpy().reshape((100, 1))\n",
    "y_square_test = square_test['y'].to_numpy().reshape((100, 1))"
   ]
  },
  {
   "cell_type": "code",
   "execution_count": 14,
   "metadata": {},
   "outputs": [],
   "source": [
    "x_steps_train = steps_train['x'].to_numpy().reshape((10000, 1))\n",
    "y_steps_train = steps_train['y'].to_numpy().reshape((10000, 1))\n",
    "x_steps_test = steps_test['x'].to_numpy().reshape((1000, 1))\n",
    "y_steps_test = steps_test['y'].to_numpy().reshape((1000, 1))"
   ]
  },
  {
   "attachments": {},
   "cell_type": "markdown",
   "metadata": {},
   "source": [
    "# Utility functions"
   ]
  },
  {
   "attachments": {},
   "cell_type": "markdown",
   "metadata": {},
   "source": [
    "## Sigmoid activation function"
   ]
  },
  {
   "cell_type": "code",
   "execution_count": 15,
   "metadata": {},
   "outputs": [],
   "source": [
    "def sigmoid(x):\n",
    "    return 1 / (np.exp(-x) + 1)"
   ]
  },
  {
   "attachments": {},
   "cell_type": "markdown",
   "metadata": {},
   "source": [
    "## Mean squared error"
   ]
  },
  {
   "cell_type": "code",
   "execution_count": 16,
   "metadata": {},
   "outputs": [],
   "source": [
    "def mse(actual: nptyping.NDArray, predicted: nptyping.NDArray) -> float:\n",
    "    n = len(actual)\n",
    "    return (1/n) * np.sum((actual - predicted)**2)"
   ]
  },
  {
   "attachments": {},
   "cell_type": "markdown",
   "metadata": {},
   "source": [
    "# MLP implementation"
   ]
  },
  {
   "cell_type": "code",
   "execution_count": 17,
   "metadata": {},
   "outputs": [],
   "source": [
    "class MLP:\n",
    "    __slots__ = ['input_size', 'output_size', 'hidden_layers', 'activation_func', 'out_func', 'weights', 'biases']\n",
    "\n",
    "    def __init__(self, input_size: int, hidden_layers_sizes: list[int], output_size: int, activation_func: callable, out_func: callable = None):\n",
    "        self.input_size = input_size\n",
    "        self.hidden_layers = hidden_layers_sizes\n",
    "        self.output_size = output_size\n",
    "        self.activation_func = activation_func\n",
    "        if out_func is None:\n",
    "            out_func = activation_func\n",
    "        self.out_func = out_func\n",
    "        \n",
    "        self.weights = []\n",
    "        self.biases = []\n",
    "\n",
    "        # weigths are taken from normal distribution by default\n",
    "        layers_sizes = [input_size, *hidden_layers_sizes, output_size]\n",
    "        for i in range(len(layers_sizes) - 1):\n",
    "            self.weights.append(\n",
    "                np.random.normal(size=(layers_sizes[i], layers_sizes[i + 1]))\n",
    "            )\n",
    "        \n",
    "        # biases are 0 by default\n",
    "        for layer_size in layers_sizes[1:]:\n",
    "            self.biases.append(\n",
    "                np.zeros((1, layer_size))\n",
    "            )\n",
    "\n",
    "    @property\n",
    "    def hidden_layers_count(self) -> int:\n",
    "        return len(self.hidden_layers)\n",
    "    \n",
    "    def predict(self, x: nptyping.NDArray) -> nptyping.NDArray:\n",
    "        for i in range(len(self.weights) - 1):\n",
    "            x = self.activation_func(x @ self.weights[i] + self.biases[i])\n",
    "        y = self.out_func(x @ self.weights[-1] + self.biases[-1])\n",
    "        return y"
   ]
  },
  {
   "attachments": {},
   "cell_type": "markdown",
   "metadata": {},
   "source": [
    "# Predicting with default weights & biases"
   ]
  },
  {
   "attachments": {},
   "cell_type": "markdown",
   "metadata": {},
   "source": [
    "## One hidden layer with 5 neurons:"
   ]
  },
  {
   "cell_type": "code",
   "execution_count": 18,
   "metadata": {},
   "outputs": [],
   "source": [
    "mlp_default_1 = MLP(1, [5], 1, sigmoid, lambda x: x)"
   ]
  },
  {
   "cell_type": "code",
   "execution_count": 19,
   "metadata": {},
   "outputs": [
    {
     "data": {
      "text/plain": [
       "8685.447609855546"
      ]
     },
     "execution_count": 19,
     "metadata": {},
     "output_type": "execute_result"
    }
   ],
   "source": [
    "pred_square_test = mlp_default_1.predict(x_square_test)\n",
    "mse(y_square_test, pred_square_test)"
   ]
  },
  {
   "cell_type": "code",
   "execution_count": 20,
   "metadata": {},
   "outputs": [
    {
     "data": {
      "text/plain": [
       "7469.571449972653"
      ]
     },
     "execution_count": 20,
     "metadata": {},
     "output_type": "execute_result"
    }
   ],
   "source": [
    "pred_steps_test = mlp_default_1.predict(x_steps_test)\n",
    "mse(y_steps_test, pred_steps_test)"
   ]
  },
  {
   "attachments": {},
   "cell_type": "markdown",
   "metadata": {},
   "source": [
    "## One hidden layer with 10 neurons:"
   ]
  },
  {
   "cell_type": "code",
   "execution_count": 21,
   "metadata": {},
   "outputs": [],
   "source": [
    "mlp_default_2 = MLP(1, [5], 1, sigmoid, lambda x: x)"
   ]
  },
  {
   "cell_type": "code",
   "execution_count": 22,
   "metadata": {},
   "outputs": [
    {
     "data": {
      "text/plain": [
       "8852.502988519718"
      ]
     },
     "execution_count": 22,
     "metadata": {},
     "output_type": "execute_result"
    }
   ],
   "source": [
    "pred_square_test = mlp_default_2.predict(x_square_test)\n",
    "mse(y_square_test, pred_square_test)"
   ]
  },
  {
   "cell_type": "code",
   "execution_count": 23,
   "metadata": {},
   "outputs": [
    {
     "data": {
      "text/plain": [
       "7442.300766363118"
      ]
     },
     "execution_count": 23,
     "metadata": {},
     "output_type": "execute_result"
    }
   ],
   "source": [
    "pred_steps_test = mlp_default_2.predict(x_steps_test)\n",
    "mse(y_steps_test, pred_steps_test)"
   ]
  },
  {
   "attachments": {},
   "cell_type": "markdown",
   "metadata": {},
   "source": [
    "## Two hidden layers with 5 neurons each:"
   ]
  },
  {
   "cell_type": "code",
   "execution_count": 24,
   "metadata": {},
   "outputs": [],
   "source": [
    "mlp_default_3 = MLP(1, [5, 5], 1, sigmoid, lambda x: x)"
   ]
  },
  {
   "cell_type": "code",
   "execution_count": 25,
   "metadata": {},
   "outputs": [
    {
     "data": {
      "text/plain": [
       "8525.61900985436"
      ]
     },
     "execution_count": 25,
     "metadata": {},
     "output_type": "execute_result"
    }
   ],
   "source": [
    "pred_square_test = mlp_default_3.predict(x_square_test)\n",
    "mse(y_square_test, pred_square_test)"
   ]
  },
  {
   "cell_type": "code",
   "execution_count": 26,
   "metadata": {},
   "outputs": [
    {
     "data": {
      "text/plain": [
       "7578.1511880531"
      ]
     },
     "execution_count": 26,
     "metadata": {},
     "output_type": "execute_result"
    }
   ],
   "source": [
    "pred_steps_test = mlp_default_3.predict(x_steps_test)\n",
    "mse(y_steps_test, pred_steps_test)"
   ]
  },
  {
   "attachments": {},
   "cell_type": "markdown",
   "metadata": {},
   "source": [
    "# Finding the best weights & biases for the `square_simple` dataset"
   ]
  },
  {
   "cell_type": "markdown",
   "metadata": {},
   "source": [
    "## One layer with 5 neurons"
   ]
  },
  {
   "cell_type": "code",
   "execution_count": 27,
   "metadata": {},
   "outputs": [],
   "source": [
    "mlp_square_1_5 = MLP(1, [5], 1, activation_func=sigmoid, out_func=lambda x: x)"
   ]
  },
  {
   "attachments": {},
   "cell_type": "markdown",
   "metadata": {},
   "source": [
    "### Manual random search"
   ]
  },
  {
   "cell_type": "code",
   "execution_count": 28,
   "metadata": {},
   "outputs": [
    {
     "name": "stdout",
     "output_type": "stream",
     "text": [
      "Min train MSE: 93.5360860276389\n",
      "Test MSE: 112.55978395299203\n"
     ]
    }
   ],
   "source": [
    "from numpy.random import Generator, PCG64\n",
    "\n",
    "rng = Generator(PCG64(28))\n",
    "\n",
    "best_weights = mlp_square_1_5.weights\n",
    "best_biases = mlp_square_1_5.biases\n",
    "min_mse_train = mse(y_square_train, mlp_square_1_5.predict(x_square_train))\n",
    "\n",
    "for _ in range(100000):\n",
    "    weights = [\n",
    "        rng.uniform(-5, 5, size=(1, 5)),\n",
    "        rng.uniform(-500, 500, size=(5, 1)),\n",
    "    ]\n",
    "    biases = [\n",
    "        rng.uniform(-5, 5, size=(1, 5)),\n",
    "        rng.uniform(-5, 5, size=(1, 1)),\n",
    "    ]\n",
    "    mlp_square_1_5.weights = weights\n",
    "    mlp_square_1_5.biases = biases\n",
    "    mse_train = mse(y_square_train, mlp_square_1_5.predict(x_square_train))\n",
    "    if mse_train < min_mse_train:\n",
    "        min_mse_train = mse_train\n",
    "        best_weights = weights\n",
    "        best_biases = biases\n",
    "\n",
    "mlp_square_1_5.weights = best_weights\n",
    "mlp_square_1_5.biases = best_biases\n",
    "print(f'Min train MSE: {min_mse_train}')\n",
    "print(f'Test MSE: {mse(y_square_test, mlp_square_1_5.predict(x_square_test))}')"
   ]
  },
  {
   "cell_type": "code",
   "execution_count": 63,
   "metadata": {},
   "outputs": [
    {
     "data": {
      "image/png": "[encoded data removed]",
      "text/plain": [
       "<Figure size 720x576 with 1 Axes>"
      ]
     },
     "metadata": {
      "needs_background": "light"
     },
     "output_type": "display_data"
    }
   ],
   "source": [
    "plt.figure(figsize=(10, 8))\n",
    "plt.scatter(x_square_test, y_square_test, color='blue', label='True values')\n",
    "plt.scatter(x_square_test, mlp_square_1_5.predict(x_square_test), color='red', label='Predictions')\n",
    "plt.title('Square (test)  |  1 layer, 5 neurons  |  Random search 1')\n",
    "plt.legend()\n",
    "plt.show()"
   ]
  },
  {
   "cell_type": "code",
   "execution_count": 30,
   "metadata": {},
   "outputs": [
    {
     "name": "stdout",
     "output_type": "stream",
     "text": [
      "[array([[ 2.36519363,  0.46236685,  3.88193825, -3.16719003, -1.97584925]]), array([[ 247.58226823],\n",
      "       [  49.83564008],\n",
      "       [ 143.78282879],\n",
      "       [ 319.54014225],\n",
      "       [-189.09756009]])]\n",
      "[array([[-4.58648227,  2.34494528, -3.82932527, -3.99427794,  4.29682267]]), array([[1.28273803]])]\n"
     ]
    }
   ],
   "source": [
    "print(mlp_square_1_5.weights)\n",
    "print(mlp_square_1_5.biases)"
   ]
  },
  {
   "attachments": {},
   "cell_type": "markdown",
   "metadata": {},
   "source": [
    "### Second random search (around the values found by the first one):"
   ]
  },
  {
   "cell_type": "code",
   "execution_count": 31,
   "metadata": {},
   "outputs": [
    {
     "name": "stdout",
     "output_type": "stream",
     "text": [
      "Min train MSE: 8.56116124831894\n",
      "Test MSE: 8.298135322118211\n"
     ]
    }
   ],
   "source": [
    "rng = Generator(PCG64(3))\n",
    "\n",
    "for _ in range(100000):\n",
    "    weights = [\n",
    "        np.array([[rng.uniform(2.2, 2.5), rng.uniform(0.5, 1), rng.uniform(2.8, 3.2), rng.uniform(-3.2, -2.8), rng.uniform(-2.1, -1.9)]]),\n",
    "        np.array([\n",
    "            [rng.uniform(250, 290)], \n",
    "            [rng.uniform(50, 70)], \n",
    "            [rng.uniform(140, 160)], \n",
    "            [rng.uniform(310, 330)], \n",
    "            [rng.uniform(-200, -190)],\n",
    "        ]),\n",
    "    ]\n",
    "    biases = [\n",
    "        np.array([rng.uniform(-4.7, -4.5), rng.uniform(2.2, 2.4), rng.uniform(-3.9, -3.6), rng.uniform(-3.9, -3.6), rng.uniform(4.1, 4.4)]),\n",
    "        np.array([rng.uniform(1, 1.6)]),\n",
    "    ]\n",
    "    mlp_square_1_5.weights = weights\n",
    "    mlp_square_1_5.biases = biases\n",
    "    mse_train = mse(y_square_train, mlp_square_1_5.predict(x_square_train))\n",
    "    if mse_train < min_mse_train:\n",
    "        min_mse_train = mse_train\n",
    "        best_weights = weights\n",
    "        best_biases = biases\n",
    "\n",
    "mlp_square_1_5.weights = best_weights\n",
    "mlp_square_1_5.biases = best_biases\n",
    "print(f'Min train MSE: {min_mse_train}')\n",
    "print(f'Test MSE: {mse(y_square_test, mlp_square_1_5.predict(x_square_test))}')"
   ]
  },
  {
   "cell_type": "code",
   "execution_count": 64,
   "metadata": {},
   "outputs": [
    {
     "data": {
      "image/png": "[encoded data removed]",
      "text/plain": [
       "<Figure size 720x576 with 1 Axes>"
      ]
     },
     "metadata": {
      "needs_background": "light"
     },
     "output_type": "display_data"
    }
   ],
   "source": [
    "plt.figure(figsize=(10, 8))\n",
    "plt.scatter(x_square_test, y_square_test, color='blue', label='True values')\n",
    "plt.scatter(x_square_test, mlp_square_1_5.predict(x_square_test), color='red', label='Predictions')\n",
    "plt.title('Square (test)  |  1 layer, 5 neurons  |  Random search 2')\n",
    "plt.legend()\n",
    "plt.show()"
   ]
  },
  {
   "cell_type": "code",
   "execution_count": 33,
   "metadata": {},
   "outputs": [
    {
     "name": "stdout",
     "output_type": "stream",
     "text": [
      "[array([[ 2.37210977,  0.5659331 ,  3.08571977, -2.92055572, -2.05003056]]), array([[ 256.75668624],\n",
      "       [  55.46133004],\n",
      "       [ 141.84503559],\n",
      "       [ 320.44449791],\n",
      "       [-195.23755257]])]\n",
      "[array([-4.67824485,  2.28961114, -3.62076364, -3.61674852,  4.12095195]), array([1.34364959])]\n"
     ]
    }
   ],
   "source": [
    "print(mlp_square_1_5.weights)\n",
    "print(mlp_square_1_5.biases)"
   ]
  },
  {
   "attachments": {},
   "cell_type": "markdown",
   "metadata": {},
   "source": [
    "## One layer with 10 neurons"
   ]
  },
  {
   "cell_type": "code",
   "execution_count": 34,
   "metadata": {},
   "outputs": [],
   "source": [
    "mlp_square_1_10 = MLP(1, [10], 1, activation_func=sigmoid, out_func=lambda x: x)"
   ]
  },
  {
   "cell_type": "markdown",
   "metadata": {},
   "source": [
    "### Manual random search"
   ]
  },
  {
   "cell_type": "code",
   "execution_count": 35,
   "metadata": {},
   "outputs": [
    {
     "name": "stdout",
     "output_type": "stream",
     "text": [
      "Min train MSE: 717.8298314448522\n",
      "Test MSE: 673.2850747132572\n"
     ]
    }
   ],
   "source": [
    "rng = Generator(PCG64(4))\n",
    "\n",
    "best_weights = mlp_square_1_10.weights\n",
    "best_biases = mlp_square_1_10.biases\n",
    "min_mse_train = mse(y_square_train, mlp_square_1_10.predict(x_square_train))\n",
    "\n",
    "for _ in range(100000):\n",
    "    weights = [\n",
    "        rng.uniform(-5, 5, size=(1, 10)),\n",
    "        rng.uniform(-2000, 2000, size=(10, 1)),\n",
    "    ]\n",
    "    biases = [\n",
    "        rng.uniform(-1, 1, size=(1, 10)),\n",
    "        -130,\n",
    "    ]\n",
    "    mlp_square_1_10.weights = weights\n",
    "    mlp_square_1_10.biases = biases\n",
    "    mse_train = mse(y_square_train, mlp_square_1_10.predict(x_square_train))\n",
    "    if mse_train < min_mse_train:\n",
    "        min_mse_train = mse_train\n",
    "        best_weights = weights\n",
    "        best_biases = biases\n",
    "\n",
    "mlp_square_1_10.weights = best_weights\n",
    "mlp_square_1_10.biases = best_biases\n",
    "print(f'Min train MSE: {min_mse_train}')\n",
    "print(f'Test MSE: {mse(y_square_test, mlp_square_1_10.predict(x_square_test))}')"
   ]
  },
  {
   "cell_type": "code",
   "execution_count": 65,
   "metadata": {},
   "outputs": [
    {
     "data": {
      "image/png": "[encoded data removed]",
      "text/plain": [
       "<Figure size 720x576 with 1 Axes>"
      ]
     },
     "metadata": {
      "needs_background": "light"
     },
     "output_type": "display_data"
    }
   ],
   "source": [
    "plt.figure(figsize=(10, 8))\n",
    "plt.scatter(x_square_test, y_square_test, color='blue', label='True values')\n",
    "plt.scatter(x_square_test, mlp_square_1_10.predict(x_square_test), color='red', label='Predictions')\n",
    "plt.title('Square (test)  |  1 layer, 10 neurons  |  Random search 1')\n",
    "plt.legend()\n",
    "plt.show()"
   ]
  },
  {
   "cell_type": "code",
   "execution_count": 37,
   "metadata": {},
   "outputs": [
    {
     "name": "stdout",
     "output_type": "stream",
     "text": [
      "[array([[ 0.99421592, -0.78568669,  2.33459259, -2.29439298, -3.67384578,\n",
      "        -1.74943047, -2.82595229,  0.20977814,  2.2767634 ,  1.95703157]]), array([[-1890.86437135],\n",
      "       [ -564.74807527],\n",
      "       [ 1653.01161679],\n",
      "       [ 1528.66888345],\n",
      "       [   74.91270225],\n",
      "       [-1237.2014985 ],\n",
      "       [  603.28470031],\n",
      "       [  529.86826632],\n",
      "       [   91.14809814],\n",
      "       [  108.69425813]])]\n",
      "[array([[ 0.9231069 , -0.03613695,  0.74397553, -0.70591735,  0.75637763,\n",
      "         0.26804984, -0.41904844,  0.3488422 , -0.37511998, -0.72602769]]), -130]\n"
     ]
    }
   ],
   "source": [
    "print(mlp_square_1_10.weights)\n",
    "print(mlp_square_1_10.biases)"
   ]
  },
  {
   "attachments": {},
   "cell_type": "markdown",
   "metadata": {},
   "source": [
    "### Second random search (narrowing down the search space):"
   ]
  },
  {
   "cell_type": "code",
   "execution_count": 38,
   "metadata": {},
   "outputs": [
    {
     "name": "stdout",
     "output_type": "stream",
     "text": [
      "Min train MSE: 10.423483673042501\n",
      "Test MSE: 8.848719043222072\n"
     ]
    }
   ],
   "source": [
    "rng = Generator(PCG64(14))\n",
    "\n",
    "best_weights = mlp_square_1_10.weights\n",
    "best_biases = mlp_square_1_10.biases\n",
    "min_mse_train = mse(y_square_train, mlp_square_1_10.predict(x_square_train))\n",
    "\n",
    "for _ in range(100000):\n",
    "    weights = [\n",
    "        np.array([[rng.uniform(1.85, 1.95), rng.uniform(-0.75, -0.65), rng.uniform(2.7, 2.8), rng.uniform(-1.3, -1.2), rng.uniform(-3.05, -2.95),\n",
    "                   rng.uniform(-0.8, -0.7), rng.uniform(-3.6, -3.5), rng.uniform(0.5, 0.6), rng.uniform(0.68, 0.78), rng.uniform(1.05, 1.15)]]),\n",
    "        np.array([\n",
    "            [rng.uniform(-1695, -1685)],\n",
    "            [rng.uniform(-895, -885)],\n",
    "            [rng.uniform(1720, 1730)],\n",
    "            [rng.uniform(1540, 1550)],\n",
    "            [rng.uniform(55, 65)],\n",
    "            [rng.uniform(-1360, -1350)],\n",
    "            [rng.uniform(590, 600)],\n",
    "            [rng.uniform(595, 605)],\n",
    "            [rng.uniform(100, 110)], \n",
    "            [rng.uniform(155, 165)],\n",
    "        ]),\n",
    "    ]\n",
    "    biases = [\n",
    "        np.array([rng.uniform(0.55, 0.65), 0, rng.uniform(0.6, 0.7), rng.uniform(-1.1, -1), rng.uniform(1.4, 1.5),\n",
    "                  rng.uniform(0, 0.1), rng.uniform(-0.7, -0.6), rng.uniform(0.55, 0.65), rng.uniform(-0.85, -0.75), rng.uniform(-1.5, -1.4)]),\n",
    "        -130,\n",
    "    ]\n",
    "    mlp_square_1_10.weights = weights\n",
    "    mlp_square_1_10.biases = biases\n",
    "    mse_train = mse(y_square_train, mlp_square_1_10.predict(x_square_train))\n",
    "    if mse_train < min_mse_train:\n",
    "        min_mse_train = mse_train\n",
    "        best_weights = weights\n",
    "        best_biases = biases\n",
    "\n",
    "mlp_square_1_10.weights = best_weights\n",
    "mlp_square_1_10.biases = best_biases\n",
    "print(f'Min train MSE: {min_mse_train}')\n",
    "print(f'Test MSE: {mse(y_square_test, mlp_square_1_10.predict(x_square_test))}')"
   ]
  },
  {
   "cell_type": "code",
   "execution_count": 66,
   "metadata": {},
   "outputs": [
    {
     "data": {
      "image/png": "[encoded data removed]",
      "text/plain": [
       "<Figure size 720x576 with 1 Axes>"
      ]
     },
     "metadata": {
      "needs_background": "light"
     },
     "output_type": "display_data"
    }
   ],
   "source": [
    "plt.figure(figsize=(10, 8))\n",
    "plt.scatter(x_square_test, y_square_test, color='blue', label='True values')\n",
    "plt.scatter(x_square_test, mlp_square_1_10.predict(x_square_test), color='red', label='Predictions')\n",
    "plt.title('Square (test)  |  1 layer, 10 neurons  |  Random search 2')\n",
    "plt.legend()\n",
    "plt.show()"
   ]
  },
  {
   "cell_type": "code",
   "execution_count": 40,
   "metadata": {},
   "outputs": [
    {
     "name": "stdout",
     "output_type": "stream",
     "text": [
      "[array([[ 1.85025886, -0.73252545,  2.76641568, -1.27699638, -2.97562481,\n",
      "        -0.73946077, -3.59269646,  0.56852445,  0.75210833,  1.09273298]]), array([[-1691.66099192],\n",
      "       [ -888.92829888],\n",
      "       [ 1720.19450433],\n",
      "       [ 1540.3720655 ],\n",
      "       [   64.12913806],\n",
      "       [-1352.0231414 ],\n",
      "       [  599.26314037],\n",
      "       [  597.00738237],\n",
      "       [  105.44936301],\n",
      "       [  163.00573947]])]\n",
      "[array([ 0.62800074,  0.        ,  0.69680435, -1.05625312,  1.48281615,\n",
      "        0.06064766, -0.67391401,  0.57987519, -0.83001711, -1.46337398]), -130]\n"
     ]
    }
   ],
   "source": [
    "print(mlp_square_1_10.weights)\n",
    "print(mlp_square_1_10.biases)"
   ]
  },
  {
   "attachments": {},
   "cell_type": "markdown",
   "metadata": {},
   "source": [
    "## Two layers with 5 neurons each"
   ]
  },
  {
   "cell_type": "code",
   "execution_count": 41,
   "metadata": {},
   "outputs": [],
   "source": [
    "mlp_square_2_5 = MLP(1, [5, 5], 1, activation_func=sigmoid, out_func=lambda x: x)"
   ]
  },
  {
   "cell_type": "code",
   "execution_count": 42,
   "metadata": {},
   "outputs": [
    {
     "data": {
      "text/plain": [
       "[array([[-1.66727583, -1.84660323, -0.37147557, -0.11313819,  0.7138911 ]]),\n",
       " array([[-0.09250991, -0.85672881,  0.38416224, -0.45793397, -0.43576839],\n",
       "        [-0.61288077, -0.47310786, -0.65467507, -0.48171214,  0.37045607],\n",
       "        [ 0.05117894,  0.15408194, -0.02292633, -0.07837466,  0.25264994],\n",
       "        [ 0.27702159,  0.36249834, -1.36725348,  1.66493329, -0.16687124],\n",
       "        [ 0.21689596,  1.68791188,  0.20969122,  1.12276586,  0.85420001]]),\n",
       " array([[-1.12838392],\n",
       "        [-1.34722809],\n",
       "        [ 1.26871032],\n",
       "        [ 1.35038078],\n",
       "        [-0.32831174]])]"
      ]
     },
     "execution_count": 42,
     "metadata": {},
     "output_type": "execute_result"
    }
   ],
   "source": [
    "mlp_square_2_5.weights"
   ]
  },
  {
   "cell_type": "code",
   "execution_count": 43,
   "metadata": {},
   "outputs": [
    {
     "data": {
      "text/plain": [
       "[array([[0., 0., 0., 0., 0.]]), array([[0., 0., 0., 0., 0.]]), array([[0.]])]"
      ]
     },
     "execution_count": 43,
     "metadata": {},
     "output_type": "execute_result"
    }
   ],
   "source": [
    "mlp_square_2_5.biases"
   ]
  },
  {
   "cell_type": "markdown",
   "metadata": {},
   "source": [
    "### Manual random search"
   ]
  },
  {
   "cell_type": "code",
   "execution_count": 44,
   "metadata": {},
   "outputs": [
    {
     "name": "stdout",
     "output_type": "stream",
     "text": [
      "Min train MSE: 454.86272838154235\n",
      "Test MSE: 285.6003142031494\n"
     ]
    }
   ],
   "source": [
    "from numpy.random import Generator, PCG64\n",
    "\n",
    "mlp_square_2_5 = MLP(1, [5, 5], 1, activation_func=sigmoid, out_func=lambda x: x)\n",
    "\n",
    "rng = Generator(PCG64(4))\n",
    "\n",
    "best_weights = mlp_square_2_5.weights\n",
    "best_biases = mlp_square_2_5.biases\n",
    "min_mse_train = mse(y_square_train, mlp_square_2_5.predict(x_square_train))\n",
    "\n",
    "for _ in range(100000):\n",
    "    weights = [\n",
    "        rng.uniform(-1, 1, size=(1, 5)),\n",
    "        rng.uniform(-5, 5, size=(5, 5)),\n",
    "        rng.uniform(-1000, 1000, size=(5, 1)),\n",
    "    ]\n",
    "    biases = [\n",
    "        np.zeros((1, 5)),\n",
    "        np.zeros((1, 5)),\n",
    "        -130,\n",
    "    ]\n",
    "    mlp_square_2_5.weights = weights\n",
    "    mlp_square_2_5.biases = biases\n",
    "    mse_train = mse(y_square_train, mlp_square_2_5.predict(x_square_train))\n",
    "    if mse_train < min_mse_train:\n",
    "        min_mse_train = mse_train\n",
    "        best_weights = weights\n",
    "        best_biases = biases\n",
    "\n",
    "mlp_square_2_5.weights = best_weights\n",
    "mlp_square_2_5.biases = best_biases\n",
    "print(f'Min train MSE: {min_mse_train}')\n",
    "print(f'Test MSE: {mse(y_square_test, mlp_square_2_5.predict(x_square_test))}')"
   ]
  },
  {
   "cell_type": "code",
   "execution_count": 67,
   "metadata": {},
   "outputs": [
    {
     "data": {
      "image/png": "[encoded data removed]",
      "text/plain": [
       "<Figure size 720x576 with 1 Axes>"
      ]
     },
     "metadata": {
      "needs_background": "light"
     },
     "output_type": "display_data"
    }
   ],
   "source": [
    "plt.figure(figsize=(10, 8))\n",
    "plt.scatter(x_square_test, y_square_test, color='blue', label='True values')\n",
    "plt.scatter(x_square_test, mlp_square_2_5.predict(x_square_test), color='red', label='Predictions')\n",
    "plt.title('Square (test)  |  2 layers, 5 neurons each  |  Random search 1')\n",
    "plt.legend()\n",
    "plt.show()"
   ]
  },
  {
   "cell_type": "markdown",
   "metadata": {},
   "source": [
    "### Second random search (narrowing down the search space):"
   ]
  },
  {
   "cell_type": "code",
   "execution_count": 46,
   "metadata": {},
   "outputs": [
    {
     "name": "stdout",
     "output_type": "stream",
     "text": [
      "Min train MSE: 7.7336806803415845\n",
      "Test MSE: 8.553323357023704\n"
     ]
    }
   ],
   "source": [
    "rng = Generator(PCG64(3))\n",
    "\n",
    "best_weights = mlp_square_2_5.weights\n",
    "best_biases = mlp_square_2_5.biases\n",
    "min_mse_train = mse(y_square_train, mlp_square_2_5.predict(x_square_train))\n",
    "\n",
    "for _ in range(100000):\n",
    "    weights = [\n",
    "        np.array([[rng.uniform(-0.75, -0.65), rng.uniform(0, 0.1), rng.uniform(-0.8, -0.7), rng.uniform(0.1, 0.2), rng.uniform(1.5, 1.6)]]),\n",
    "        np.array([\n",
    "            [rng.uniform(32, 33), rng.uniform(1.2, 1.3), rng.uniform(-9.5, -8.5), rng.uniform(5, 6), rng.uniform(-3, -2)],\n",
    "            [rng.uniform(-3.9, -3.8), rng.uniform(-2, -1.3), rng.uniform(1, 1.1), rng.uniform(-7.9, -7.4), rng.uniform(-7, -6)],\n",
    "            [rng.uniform(-1, -0.6), rng.uniform(7.8, 7.9), rng.uniform(-5.7, -5.6), rng.uniform(-2.7, -2.6), rng.uniform(0.4, 0.5)],\n",
    "            [rng.uniform(14, 15), rng.uniform(0, 1), rng.uniform(2.1, 2.3), rng.uniform(1.8, 2), rng.uniform(1.5, 1.7)],\n",
    "            [rng.uniform(-4.1, -3.8), rng.uniform(1.1, 1.5), rng.uniform(1.35, 1.6), rng.uniform(-7.4, -7), rng.uniform(0.4, 1)],\n",
    "        ]),\n",
    "        np.array([\n",
    "            [rng.uniform(34, 36)],\n",
    "            [rng.uniform(-80, -70)],\n",
    "            [rng.uniform(500, 510)],\n",
    "            [rng.uniform(980, 992)],\n",
    "            [rng.uniform(720, 735)],\n",
    "        ]),\n",
    "    ]\n",
    "    biases = [\n",
    "        np.zeros((1, 5)),\n",
    "        np.zeros((1, 5)),\n",
    "        -130,\n",
    "    ]\n",
    "    mlp_square_2_5.weights = weights\n",
    "    mlp_square_2_5.biases = biases\n",
    "    mse_train = mse(y_square_train, mlp_square_2_5.predict(x_square_train))\n",
    "    if mse_train < min_mse_train:\n",
    "        min_mse_train = mse_train\n",
    "        best_weights = weights\n",
    "        best_biases = biases\n",
    "\n",
    "mlp_square_2_5.weights = best_weights\n",
    "mlp_square_2_5.biases = best_biases\n",
    "print(f'Min train MSE: {min_mse_train}')\n",
    "print(f'Test MSE: {mse(y_square_test, mlp_square_2_5.predict(x_square_test))}')"
   ]
  },
  {
   "cell_type": "code",
   "execution_count": 68,
   "metadata": {},
   "outputs": [
    {
     "data": {
      "image/png": "[encoded data removed]",
      "text/plain": [
       "<Figure size 720x576 with 1 Axes>"
      ]
     },
     "metadata": {
      "needs_background": "light"
     },
     "output_type": "display_data"
    }
   ],
   "source": [
    "plt.figure(figsize=(10, 8))\n",
    "plt.scatter(x_square_test, y_square_test, color='blue', label='True values')\n",
    "plt.scatter(x_square_test, mlp_square_2_5.predict(x_square_test), color='red', label='Predictions')\n",
    "plt.title('Square (test)  |  2 layers, 5 neurons each  |  Random search 2')\n",
    "plt.legend()\n",
    "plt.show()"
   ]
  },
  {
   "cell_type": "code",
   "execution_count": 48,
   "metadata": {},
   "outputs": [
    {
     "name": "stdout",
     "output_type": "stream",
     "text": [
      "[array([[-0.67502194,  0.0083781 , -0.7149193 ,  0.1438174 ,  1.53812413]]), array([[32.30978052,  1.29689551, -9.08925634,  5.89017655, -2.59076222],\n",
      "       [-3.82550594, -1.36033539,  1.07867988, -7.66272235, -6.42391788],\n",
      "       [-0.69810025,  7.80811593, -5.60430625, -2.60423797,  0.4077369 ],\n",
      "       [14.45115248,  0.16617389,  2.26797616,  1.95678869,  1.59169839],\n",
      "       [-3.81337972,  1.36140705,  1.50094112, -7.11611189,  0.89646041]]), array([[ 34.85776351],\n",
      "       [-78.21531476],\n",
      "       [503.00551701],\n",
      "       [987.88742987],\n",
      "       [733.98693467]])]\n",
      "[array([[0., 0., 0., 0., 0.]]), array([[0., 0., 0., 0., 0.]]), -130]\n"
     ]
    }
   ],
   "source": [
    "print(mlp_square_2_5.weights)\n",
    "print(mlp_square_2_5.biases)"
   ]
  },
  {
   "attachments": {},
   "cell_type": "markdown",
   "metadata": {},
   "source": [
    "# Finding the best weights & biases for the `steps_large` dataset"
   ]
  },
  {
   "attachments": {},
   "cell_type": "markdown",
   "metadata": {},
   "source": [
    "## One layer with 5 neurons"
   ]
  },
  {
   "attachments": {},
   "cell_type": "markdown",
   "metadata": {},
   "source": [
    "### Manual random search"
   ]
  },
  {
   "cell_type": "code",
   "execution_count": 49,
   "metadata": {},
   "outputs": [
    {
     "name": "stderr",
     "output_type": "stream",
     "text": [
      "/tmp/ipykernel_8796/4281543206.py:2: RuntimeWarning: overflow encountered in exp\n",
      "  return 1 / (np.exp(-x) + 1)\n"
     ]
    },
    {
     "name": "stdout",
     "output_type": "stream",
     "text": [
      "Min train MSE: 7.803143230143037\n",
      "Test MSE: 8.641197247425971\n"
     ]
    }
   ],
   "source": [
    "mlp_steps_1_5 = MLP(1, [5], 1, sigmoid, lambda x: x)\n",
    "\n",
    "rng = Generator(PCG64(28))\n",
    "\n",
    "best_weights = mlp_steps_1_5.weights\n",
    "best_biases = mlp_steps_1_5.biases\n",
    "min_mse_train = mse(y_steps_train, mlp_steps_1_5.predict(x_steps_train))\n",
    "\n",
    "for _ in range(100000):\n",
    "    weights = [\n",
    "        np.array([[rng.uniform(470, 480), rng.uniform(450, 460), rng.uniform(-110, -100), rng.uniform(470, 480), rng.uniform(240, 250)]]),\n",
    "        np.array([\n",
    "            [rng.uniform(30, 40)], \n",
    "            [rng.uniform(80, 100)], \n",
    "            [rng.uniform(5, 15)], \n",
    "            [rng.uniform(40, 50)], \n",
    "            [rng.uniform(70, 90)]\n",
    "        ]),\n",
    "    ]\n",
    "    biases = [\n",
    "        np.array([rng.uniform(-240, -230), rng.uniform(220, 240), rng.uniform(-60, -50), rng.uniform(-240, -230), rng.uniform(-370, -360)]),\n",
    "        np.array([rng.uniform(-100, -80)]),\n",
    "    ]\n",
    "    mlp_steps_1_5.weights = weights\n",
    "    mlp_steps_1_5.biases = biases\n",
    "    mse_train = mse(y_steps_train, mlp_steps_1_5.predict(x_steps_train))\n",
    "    if np.isnan(mse_train):  # overflow encountered in exp\n",
    "        continue\n",
    "    if mse_train < min_mse_train:\n",
    "        min_mse_train = mse_train\n",
    "        best_weights = weights\n",
    "        best_biases = biases\n",
    "\n",
    "mlp_steps_1_5.weights = best_weights\n",
    "mlp_steps_1_5.biases = best_biases\n",
    "print(f'Min train MSE: {min_mse_train}')\n",
    "print(f'Test MSE: {mse(y_steps_test, mlp_steps_1_5.predict(x_steps_test))}')"
   ]
  },
  {
   "cell_type": "code",
   "execution_count": 78,
   "metadata": {},
   "outputs": [
    {
     "name": "stderr",
     "output_type": "stream",
     "text": [
      "/tmp/ipykernel_8796/4281543206.py:2: RuntimeWarning: overflow encountered in exp\n",
      "  return 1 / (np.exp(-x) + 1)\n"
     ]
    },
    {
     "data": {
      "image/png": "[encoded data removed]",
      "text/plain": [
       "<Figure size 720x576 with 1 Axes>"
      ]
     },
     "metadata": {
      "needs_background": "light"
     },
     "output_type": "display_data"
    }
   ],
   "source": [
    "plt.figure(figsize=(10, 8))\n",
    "plt.scatter(x_steps_test, y_steps_test, color='blue', label='True values')\n",
    "plt.scatter(x_steps_test, mlp_steps_1_5.predict(x_steps_test), color='red', label='Predictions')\n",
    "plt.title('Steps (test)  |  1 layer, 5 neurons')\n",
    "plt.legend()\n",
    "plt.show()"
   ]
  },
  {
   "cell_type": "code",
   "execution_count": 51,
   "metadata": {},
   "outputs": [
    {
     "name": "stdout",
     "output_type": "stream",
     "text": [
      "[array([[ 473.68722908,  459.52072546, -104.1728087 ,  474.4445001 ,\n",
      "         240.02148346]]), array([[33.00292619],\n",
      "       [92.22129034],\n",
      "       [13.01431015],\n",
      "       [45.58717933],\n",
      "       [80.78567181]])]\n",
      "[array([-238.73170513,  229.38369025,  -51.56655973, -237.20444173,\n",
      "       -360.01686773]), array([-91.96272646])]\n"
     ]
    }
   ],
   "source": [
    "print(mlp_steps_1_5.weights)\n",
    "print(mlp_steps_1_5.biases)"
   ]
  },
  {
   "cell_type": "markdown",
   "metadata": {},
   "source": [
    "## One layer with 10 neurons"
   ]
  },
  {
   "attachments": {},
   "cell_type": "markdown",
   "metadata": {},
   "source": [
    "### Same weights & biases as with 5 neurons"
   ]
  },
  {
   "cell_type": "code",
   "execution_count": 52,
   "metadata": {},
   "outputs": [
    {
     "name": "stdout",
     "output_type": "stream",
     "text": [
      "Train MSE: 7.803143231395159\n",
      "Test MSE: 8.641197247425971\n"
     ]
    },
    {
     "name": "stderr",
     "output_type": "stream",
     "text": [
      "/tmp/ipykernel_8796/4281543206.py:2: RuntimeWarning: overflow encountered in exp\n",
      "  return 1 / (np.exp(-x) + 1)\n"
     ]
    }
   ],
   "source": [
    "mlp_steps_1_10 = MLP(1, [10], 1, sigmoid, lambda x: x)\n",
    "mlp_steps_1_10.weights = [\n",
    "    np.array([[473.68722908, 459.52072546, -104.1728087, 474.4445001, 240.02148346, 0, 0, 0, 0, 0]]), \n",
    "    np.array([\n",
    "        [33.00292619],\n",
    "        [92.22129034],\n",
    "        [13.01431015],\n",
    "        [45.58717933],\n",
    "        [80.78567181],\n",
    "        [0],\n",
    "        [0],\n",
    "        [0],\n",
    "        [0],\n",
    "        [0],\n",
    "    ]),\n",
    "]\n",
    "mlp_steps_1_10.biases = [\n",
    "    np.array([-238.73170513, 229.38369025, -51.56655973, -237.20444173, -360.01686773, 0, 0, 0, 0, 0]), \n",
    "    np.array([-91.96272646]),\n",
    "]\n",
    "print(f'Train MSE: {mse(y_steps_train, mlp_steps_1_10.predict(x_steps_train))}')\n",
    "print(f'Test MSE: {mse(y_steps_test, mlp_steps_1_5.predict(x_steps_test))}')"
   ]
  },
  {
   "cell_type": "code",
   "execution_count": 72,
   "metadata": {},
   "outputs": [
    {
     "name": "stderr",
     "output_type": "stream",
     "text": [
      "/tmp/ipykernel_8796/4281543206.py:2: RuntimeWarning: overflow encountered in exp\n",
      "  return 1 / (np.exp(-x) + 1)\n"
     ]
    },
    {
     "data": {
      "image/png": "[encoded data removed]",
      "text/plain": [
       "<Figure size 720x576 with 1 Axes>"
      ]
     },
     "metadata": {
      "needs_background": "light"
     },
     "output_type": "display_data"
    }
   ],
   "source": [
    "plt.figure(figsize=(10, 8))\n",
    "plt.scatter(x_steps_test, y_steps_test, color='blue', label='True values')\n",
    "plt.scatter(x_steps_test, mlp_steps_1_10.predict(x_steps_test), color='red', label='Predictions')\n",
    "plt.title('Steps (test)  |  1 layer, 10 neurons')\n",
    "plt.legend()\n",
    "plt.show()"
   ]
  },
  {
   "cell_type": "code",
   "execution_count": 54,
   "metadata": {},
   "outputs": [
    {
     "name": "stdout",
     "output_type": "stream",
     "text": [
      "[array([[ 473.68722908,  459.52072546, -104.1728087 ,  474.4445001 ,\n",
      "         240.02148346,    0.        ,    0.        ,    0.        ,\n",
      "           0.        ,    0.        ]]), array([[33.00292619],\n",
      "       [92.22129034],\n",
      "       [13.01431015],\n",
      "       [45.58717933],\n",
      "       [80.78567181],\n",
      "       [ 0.        ],\n",
      "       [ 0.        ],\n",
      "       [ 0.        ],\n",
      "       [ 0.        ],\n",
      "       [ 0.        ]])]\n",
      "[array([-238.73170513,  229.38369025,  -51.56655973, -237.20444173,\n",
      "       -360.01686773,    0.        ,    0.        ,    0.        ,\n",
      "          0.        ,    0.        ]), array([-91.96272646])]\n"
     ]
    }
   ],
   "source": [
    "print(mlp_steps_1_10.weights)\n",
    "print(mlp_steps_1_10.biases)"
   ]
  },
  {
   "attachments": {},
   "cell_type": "markdown",
   "metadata": {},
   "source": [
    "## Two layers with 5 neurons each"
   ]
  },
  {
   "cell_type": "markdown",
   "metadata": {},
   "source": [
    "### Manual random search"
   ]
  },
  {
   "cell_type": "code",
   "execution_count": 55,
   "metadata": {},
   "outputs": [
    {
     "name": "stdout",
     "output_type": "stream",
     "text": [
      "Min train MSE: 8.388729133774174\n",
      "Test MSE: 6.526256742783879\n"
     ]
    }
   ],
   "source": [
    "mlp_steps_2_5 = MLP(1, [5, 5], 1, sigmoid, lambda x: x)\n",
    "\n",
    "rng = Generator(PCG64(19))\n",
    "\n",
    "best_weights = mlp_steps_2_5.weights\n",
    "best_biases = mlp_steps_2_5.biases\n",
    "min_mse_train = mse(y_steps_train, mlp_steps_2_5.predict(x_steps_train))\n",
    "\n",
    "for _ in range(100000):\n",
    "    weights = [\n",
    "        np.array([[rng.uniform(28, 30), rng.uniform(22, 23), rng.uniform(29, 30), rng.uniform(30, 32), rng.uniform(-18, -17)]]),\n",
    "        np.array([\n",
    "            [rng.uniform(43, 46), rng.uniform(-6, -5), rng.uniform(3, 4), rng.uniform(-5, -4), rng.uniform(-3, -2)],\n",
    "            [rng.uniform(15, 16), rng.uniform(-3, -2), rng.uniform(11, 12), rng.uniform(-7, -6), rng.uniform(-3, -2)],\n",
    "            [rng.uniform(8, 9), rng.uniform(-6.5, -5.5), rng.uniform(18, 20), rng.uniform(-7, -6), rng.uniform(-5, -4)],\n",
    "            [rng.uniform(9, 10), rng.uniform(-8, -7), rng.uniform(30, 32), rng.uniform(-9, 7), rng.uniform(-3, -2)],\n",
    "            [rng.uniform(-9, -8), rng.uniform(0, 1), rng.uniform(-14, -13), rng.uniform(53, 56), rng.uniform(-7, -6)],\n",
    "        ]),\n",
    "        np.array([\n",
    "            [rng.uniform(80, 84)],\n",
    "            [rng.uniform(3, 5)],\n",
    "            [rng.uniform(77, 83)],\n",
    "            [rng.uniform(-83, -77)],\n",
    "            [rng.uniform(0, 2)],\n",
    "        ]),\n",
    "    ]\n",
    "    biases = [\n",
    "        np.array([[rng.uniform(13, 14), rng.uniform(-14, -13), rng.uniform(-16, -15), rng.uniform(-16, -15), rng.uniform(25, 26)]]),\n",
    "        np.array([[rng.uniform(-8, -7), rng.uniform(0, 0.5), rng.uniform(-13, -12), rng.uniform(3, 4), rng.uniform(-6, -5)]]),\n",
    "        rng.uniform(-2, -1),\n",
    "    ]\n",
    "    mlp_steps_2_5.weights = weights\n",
    "    mlp_steps_2_5.biases = biases\n",
    "    mse_train = mse(y_steps_train, mlp_steps_2_5.predict(x_steps_train))\n",
    "    if np.isnan(mse_train):  # overflow encountered in exp\n",
    "        continue\n",
    "    if mse_train < min_mse_train:\n",
    "        min_mse_train = mse_train\n",
    "        best_weights = weights\n",
    "        best_biases = biases\n",
    "\n",
    "mlp_steps_2_5.weights = best_weights\n",
    "mlp_steps_2_5.biases = best_biases\n",
    "print(f'Min train MSE: {min_mse_train}')\n",
    "print(f'Test MSE: {mse(y_steps_test, mlp_steps_2_5.predict(x_steps_test))}')"
   ]
  },
  {
   "cell_type": "code",
   "execution_count": 73,
   "metadata": {},
   "outputs": [
    {
     "data": {
      "image/png": "[encoded data removed]",
      "text/plain": [
       "<Figure size 720x576 with 1 Axes>"
      ]
     },
     "metadata": {
      "needs_background": "light"
     },
     "output_type": "display_data"
    }
   ],
   "source": [
    "plt.figure(figsize=(10, 8))\n",
    "plt.scatter(x_steps_test, y_steps_test, color='blue', label='True values')\n",
    "plt.scatter(x_steps_test, mlp_steps_2_5.predict(x_steps_test), color='red', label='Predictions')\n",
    "plt.title('Steps (test)  |  2 layers, 5 neurons each')\n",
    "plt.legend()\n",
    "plt.show()"
   ]
  },
  {
   "cell_type": "code",
   "execution_count": 57,
   "metadata": {},
   "outputs": [
    {
     "name": "stdout",
     "output_type": "stream",
     "text": [
      "[array([[ 28.25228289,  22.32085492,  29.59322235,  30.94347679,\n",
      "        -17.86456131]]), array([[ 45.93704776,  -5.25950373,   3.12773996,  -4.86278763,\n",
      "         -2.1179894 ],\n",
      "       [ 15.71323868,  -2.26983447,  11.59337061,  -6.36729606,\n",
      "         -2.50553623],\n",
      "       [  8.75262329,  -6.09812251,  19.46046648,  -6.44217734,\n",
      "         -4.25360254],\n",
      "       [  9.37469897,  -7.37634491,  31.29186717,  -0.95248798,\n",
      "         -2.88619622],\n",
      "       [ -8.76518864,   0.99727884, -13.2945149 ,  54.07095883,\n",
      "         -6.23279788]]), array([[ 83.43456494],\n",
      "       [  4.08821563],\n",
      "       [ 79.6483918 ],\n",
      "       [-81.61418186],\n",
      "       [  0.64340577]])]\n",
      "[array([[ 13.45628253, -13.8603416 , -15.68761038, -15.40165449,\n",
      "         25.91947642]]), array([[-7.24516590e+00,  9.21739135e-03, -1.24111535e+01,\n",
      "         3.15884066e+00, -5.33507376e+00]]), -1.6837152024501185]\n"
     ]
    }
   ],
   "source": [
    "print(mlp_steps_2_5.weights)\n",
    "print(mlp_steps_2_5.biases)"
   ]
  }
 ],
 "metadata": {
  "kernelspec": {
   "display_name": "Python 3",
   "language": "python",
   "name": "python3"
  },
  "language_info": {
   "codemirror_mode": {
    "name": "ipython",
    "version": 3
   },
   "file_extension": ".py",
   "mimetype": "text/x-python",
   "name": "python",
   "nbconvert_exporter": "python",
   "pygments_lexer": "ipython3",
   "version": "3.10.6"
  },
  "orig_nbformat": 4,
  "vscode": {
   "interpreter": {
    "hash": "31f2aee4e71d21fbe5cf8b01ff0e069b9275f58929596ceb00d14d90e3e16cd6"
   }
  }
 },
 "nbformat": 4,
 "nbformat_minor": 2
}
