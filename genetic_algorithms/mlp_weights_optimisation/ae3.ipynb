{
 "cells": [
  {
   "cell_type": "code",
   "execution_count": 17,
   "metadata": {},
   "outputs": [],
   "source": [
    "import sys\n",
    "sys.path.append(\"../..\")"
   ]
  },
  {
   "cell_type": "code",
   "execution_count": 18,
   "metadata": {},
   "outputs": [],
   "source": [
    "import numpy as np\n",
    "import pandas as pd\n",
    "import matplotlib.pyplot as plt\n",
    "\n",
    "from genetic_mlp import GeneticMLP\n",
    "from multilayer_perceptron.mlp.network import MLP\n",
    "from multilayer_perceptron.mlp.optimisers import MomentumGD, RMSProp\n",
    "from multilayer_perceptron.mlp.activations import TanhActivation, LinearActivation, SoftmaxActivation, ReLUActivation, SigmoidActivation\n",
    "from multilayer_perceptron.mlp.lossfunc_and_metrics import MSE, CrossEntropy, fmeasure_prob"
   ]
  },
  {
   "cell_type": "code",
   "execution_count": 19,
   "metadata": {},
   "outputs": [],
   "source": [
    "# Default plotting settings for matplotlib\n",
    "plt.rc('figure', figsize=(8, 6), dpi=100)"
   ]
  },
  {
   "attachments": {},
   "cell_type": "markdown",
   "metadata": {},
   "source": [
    "# `iris`"
   ]
  },
  {
   "cell_type": "code",
   "execution_count": 15,
   "metadata": {},
   "outputs": [],
   "source": [
    "iris = pd.read_csv('data/iris.data', header=None)\n",
    "iris_x = iris[[0, 1, 2, 3]].to_numpy().reshape((-1, 4))\n",
    "iris_y = pd.get_dummies(iris[4]).to_numpy().reshape((-1, 3))"
   ]
  },
  {
   "cell_type": "code",
   "execution_count": 16,
   "metadata": {},
   "outputs": [],
   "source": [
    "genmlp_iris = GeneticMLP(\n",
    "    input_size=4, hidden_layers_sizes=[5], output_size=3,\n",
    "    activation_func=SigmoidActivation(), out_func=SoftmaxActivation(),\n",
    "    loss=CrossEntropy(),\n",
    "    population_size=30, random_state=26,\n",
    ")"
   ]
  },
  {
   "cell_type": "code",
   "execution_count": 17,
   "metadata": {},
   "outputs": [
    {
     "name": "stdout",
     "output_type": "stream",
     "text": [
      "Epoch 50 done! loss = 89.91\n",
      "Epoch 100 done! loss = 63.60\n",
      "Epoch 150 done! loss = 41.42\n",
      "Epoch 200 done! loss = 22.07\n",
      "Epoch 250 done! loss = 18.42\n",
      "Epoch 300 done! loss = 23.72\n",
      "Epoch 350 done! loss = 15.13\n",
      "Epoch 400 done! loss = 16.08\n",
      "Epoch 450 done! loss = 16.29\n",
      "Epoch 500 done! loss = 10.38\n"
     ]
    }
   ],
   "source": [
    "genmlp_iris.train(\n",
    "    epochs=500, x_train=iris_x, y_train=iris_y,\n",
    "    verbosity_period=50,\n",
    ")"
   ]
  },
  {
   "cell_type": "code",
   "execution_count": 18,
   "metadata": {},
   "outputs": [
    {
     "data": {
      "text/plain": [
       "0.9866666666666668"
      ]
     },
     "execution_count": 18,
     "metadata": {},
     "output_type": "execute_result"
    }
   ],
   "source": [
    "fmeasure_prob(iris_y, genmlp_iris.predict(iris_x, iris_y))"
   ]
  },
  {
   "attachments": {},
   "cell_type": "markdown",
   "metadata": {},
   "source": [
    "# `multimodal_large`"
   ]
  },
  {
   "cell_type": "code",
   "execution_count": 11,
   "metadata": {},
   "outputs": [],
   "source": [
    "multi = pd.read_csv('../../multilayer_perceptron/data/regression/multimodal-large-test.csv')\n",
    "multi_x = multi['x'].to_numpy().reshape((-1, 1))\n",
    "multi_y = multi['y'].to_numpy().reshape((-1, 1))"
   ]
  },
  {
   "cell_type": "code",
   "execution_count": 12,
   "metadata": {},
   "outputs": [],
   "source": [
    "genmlp_multi = GeneticMLP(\n",
    "    input_size=1, hidden_layers_sizes=[15, 15], output_size=1,\n",
    "    activation_func=SigmoidActivation(), out_func=LinearActivation(),\n",
    "    loss=MSE(),\n",
    "    population_size=30, random_state=26,\n",
    ")"
   ]
  },
  {
   "cell_type": "code",
   "execution_count": 13,
   "metadata": {},
   "outputs": [
    {
     "name": "stdout",
     "output_type": "stream",
     "text": [
      "Epoch 5 done! loss = 6253.77\n",
      "Epoch 10 done! loss = 10105.87\n",
      "Epoch 15 done! loss = 9514.00\n",
      "Epoch 20 done! loss = 9514.00\n",
      "Epoch 25 done! loss = 6439.63\n",
      "Epoch 30 done! loss = 9005.02\n",
      "Epoch 35 done! loss = 8247.66\n",
      "Epoch 40 done! loss = 6064.35\n",
      "Epoch 45 done! loss = 5834.59\n",
      "Epoch 50 done! loss = 4799.90\n",
      "Epoch 55 done! loss = 5834.59\n",
      "Epoch 60 done! loss = 8267.83\n",
      "Epoch 65 done! loss = 6295.84\n",
      "Epoch 70 done! loss = 15429.21\n",
      "Epoch 75 done! loss = 12810.94\n",
      "Epoch 80 done! loss = 10584.21\n",
      "Epoch 85 done! loss = 10425.28\n",
      "Epoch 90 done! loss = 9135.47\n",
      "Epoch 95 done! loss = 9135.47\n",
      "Epoch 100 done! loss = 9135.47\n",
      "Epoch 105 done! loss = 10453.38\n",
      "Epoch 110 done! loss = 6642.62\n",
      "Epoch 115 done! loss = 4555.92\n",
      "Epoch 120 done! loss = 8207.88\n",
      "Epoch 125 done! loss = 14276.25\n",
      "Epoch 130 done! loss = 10179.11\n",
      "Epoch 135 done! loss = 10179.11\n",
      "Epoch 140 done! loss = 7839.35\n",
      "Epoch 145 done! loss = 10179.11\n",
      "Epoch 150 done! loss = 5589.05\n",
      "Epoch 155 done! loss = 13664.39\n",
      "Epoch 160 done! loss = 13664.39\n",
      "Epoch 165 done! loss = 4657.36\n",
      "Epoch 170 done! loss = 5441.53\n",
      "Epoch 175 done! loss = 14416.66\n",
      "Epoch 180 done! loss = 11150.06\n",
      "Epoch 185 done! loss = 11150.06\n",
      "Epoch 190 done! loss = 7941.68\n",
      "Epoch 195 done! loss = 7889.46\n",
      "Epoch 200 done! loss = 5820.42\n",
      "Epoch 205 done! loss = 4779.97\n",
      "Epoch 210 done! loss = 3357.21\n",
      "Epoch 215 done! loss = 5053.10\n",
      "Epoch 220 done! loss = 14535.58\n",
      "Epoch 225 done! loss = 4605.90\n",
      "Epoch 230 done! loss = 7554.74\n",
      "Epoch 235 done! loss = 8478.93\n",
      "Epoch 240 done! loss = 9245.73\n",
      "Epoch 245 done! loss = 9245.73\n",
      "Epoch 250 done! loss = 19270.70\n",
      "Epoch 255 done! loss = 14425.17\n",
      "Epoch 260 done! loss = 9345.32\n",
      "Epoch 265 done! loss = 20804.15\n",
      "Epoch 270 done! loss = 6150.61\n",
      "Epoch 275 done! loss = 14781.26\n",
      "Epoch 280 done! loss = 18754.44\n",
      "Epoch 285 done! loss = 21278.49\n",
      "Epoch 290 done! loss = 17126.17\n",
      "Epoch 295 done! loss = 12474.75\n",
      "Epoch 300 done! loss = 18358.30\n",
      "Epoch 305 done! loss = 10304.57\n",
      "Epoch 310 done! loss = 15439.87\n",
      "Epoch 315 done! loss = 7303.61\n",
      "Epoch 320 done! loss = 7569.12\n",
      "Epoch 325 done! loss = 14546.22\n",
      "Epoch 330 done! loss = 17450.64\n",
      "Epoch 335 done! loss = 9345.51\n",
      "Epoch 340 done! loss = 5015.98\n",
      "Epoch 345 done! loss = 5015.98\n",
      "Epoch 350 done! loss = 5476.78\n",
      "Epoch 355 done! loss = 9247.83\n",
      "Epoch 360 done! loss = 5270.20\n",
      "Epoch 365 done! loss = 5510.61\n",
      "Epoch 370 done! loss = 5535.66\n",
      "Epoch 375 done! loss = 8769.40\n",
      "Epoch 380 done! loss = 15425.97\n",
      "Epoch 385 done! loss = 9173.02\n",
      "Epoch 390 done! loss = 6604.26\n",
      "Epoch 395 done! loss = 5180.76\n",
      "Epoch 400 done! loss = 6711.24\n",
      "Epoch 405 done! loss = 27539.99\n",
      "Epoch 410 done! loss = 11567.24\n",
      "Epoch 415 done! loss = 10130.57\n",
      "Epoch 420 done! loss = 15981.10\n",
      "Epoch 425 done! loss = 15920.80\n",
      "Epoch 430 done! loss = 11648.92\n",
      "Epoch 435 done! loss = 7165.69\n",
      "Epoch 440 done! loss = 6465.76\n",
      "Epoch 445 done! loss = 11192.89\n",
      "Epoch 450 done! loss = 6813.61\n",
      "Epoch 455 done! loss = 10610.95\n",
      "Epoch 460 done! loss = 10253.29\n",
      "Epoch 465 done! loss = 16341.41\n",
      "Epoch 470 done! loss = 13960.25\n",
      "Epoch 475 done! loss = 11058.59\n",
      "Epoch 480 done! loss = 8606.49\n",
      "Epoch 485 done! loss = 6362.63\n",
      "Epoch 490 done! loss = 10307.75\n",
      "Epoch 495 done! loss = 10845.92\n",
      "Epoch 500 done! loss = 11404.74\n",
      "Epoch 505 done! loss = 5296.73\n",
      "Epoch 510 done! loss = 4915.93\n",
      "Epoch 515 done! loss = 7300.73\n",
      "Epoch 520 done! loss = 6300.41\n",
      "Epoch 525 done! loss = 7482.17\n",
      "Epoch 530 done! loss = 5775.73\n",
      "Epoch 535 done! loss = 4700.72\n",
      "Epoch 540 done! loss = 4610.27\n",
      "Epoch 545 done! loss = 4416.80\n",
      "Epoch 550 done! loss = 4407.82\n",
      "Epoch 555 done! loss = 4407.82\n",
      "Epoch 560 done! loss = 4406.75\n",
      "Epoch 565 done! loss = 4401.94\n",
      "Epoch 570 done! loss = 4406.75\n",
      "Epoch 575 done! loss = 4395.25\n",
      "Epoch 580 done! loss = 4514.83\n",
      "Epoch 585 done! loss = 4543.17\n",
      "Epoch 590 done! loss = 4543.15\n",
      "Epoch 595 done! loss = 4244.64\n",
      "Epoch 600 done! loss = 6574.13\n",
      "Epoch 605 done! loss = 5485.40\n",
      "Epoch 610 done! loss = 5485.40\n",
      "Epoch 615 done! loss = 5457.14\n",
      "Epoch 620 done! loss = 5478.88\n",
      "Epoch 625 done! loss = 5459.47\n",
      "Epoch 630 done! loss = 5480.36\n",
      "Epoch 635 done! loss = 5480.36\n",
      "Epoch 640 done! loss = 5699.61\n",
      "Epoch 645 done! loss = 8253.06\n",
      "Epoch 650 done! loss = 6249.88\n",
      "Epoch 655 done! loss = 6249.88\n",
      "Epoch 660 done! loss = 10017.03\n",
      "Epoch 665 done! loss = 6055.08\n",
      "Epoch 670 done! loss = 7717.15\n",
      "Epoch 675 done! loss = 14317.61\n",
      "Epoch 680 done! loss = 7066.43\n",
      "Epoch 685 done! loss = 9948.54\n",
      "Epoch 690 done! loss = 18345.02\n",
      "Epoch 695 done! loss = 10457.57\n",
      "Epoch 700 done! loss = 7616.49\n",
      "Epoch 705 done! loss = 4312.87\n",
      "Epoch 710 done! loss = 7279.90\n",
      "Epoch 715 done! loss = 5452.96\n",
      "Epoch 720 done! loss = 7283.80\n",
      "Epoch 725 done! loss = 5086.97\n",
      "Epoch 730 done! loss = 6356.86\n",
      "Epoch 735 done! loss = 5642.00\n",
      "Epoch 740 done! loss = 7530.02\n",
      "Epoch 745 done! loss = 5250.15\n",
      "Epoch 750 done! loss = 5250.15\n",
      "Epoch 755 done! loss = 5227.97\n",
      "Epoch 760 done! loss = 5985.67\n",
      "Epoch 765 done! loss = 5200.82\n",
      "Epoch 770 done! loss = 4180.67\n",
      "Epoch 775 done! loss = 5244.35\n",
      "Epoch 780 done! loss = 5253.61\n",
      "Epoch 785 done! loss = 5255.14\n",
      "Epoch 790 done! loss = 5253.09\n",
      "Epoch 795 done! loss = 5249.87\n",
      "Epoch 800 done! loss = 5264.84\n",
      "Epoch 805 done! loss = 9239.35\n",
      "Epoch 810 done! loss = 6604.31\n",
      "Epoch 815 done! loss = 5401.19\n",
      "Epoch 820 done! loss = 8039.42\n",
      "Epoch 825 done! loss = 5504.38\n",
      "Epoch 830 done! loss = 5504.38\n",
      "Epoch 835 done! loss = 5504.38\n",
      "Epoch 840 done! loss = 5943.75\n",
      "Epoch 845 done! loss = 5669.82\n",
      "Epoch 850 done! loss = 5905.66\n",
      "Epoch 855 done! loss = 8811.24\n",
      "Epoch 860 done! loss = 5145.86\n",
      "Epoch 865 done! loss = 6413.24\n",
      "Epoch 870 done! loss = 5594.26\n",
      "Epoch 875 done! loss = 5472.07\n",
      "Epoch 880 done! loss = 6619.95\n",
      "Epoch 885 done! loss = 10703.61\n",
      "Epoch 890 done! loss = 4996.11\n",
      "Epoch 895 done! loss = 16582.91\n",
      "Epoch 900 done! loss = 10123.35\n",
      "Epoch 905 done! loss = 9439.78\n",
      "Epoch 910 done! loss = 5235.62\n",
      "Epoch 915 done! loss = 6478.07\n",
      "Epoch 920 done! loss = 4729.62\n",
      "Epoch 925 done! loss = 6209.65\n",
      "Epoch 930 done! loss = 5240.10\n",
      "Epoch 935 done! loss = 5413.21\n",
      "Epoch 940 done! loss = 5548.26\n",
      "Epoch 945 done! loss = 6553.43\n",
      "Epoch 950 done! loss = 5629.52\n",
      "Epoch 955 done! loss = 5558.83\n",
      "Epoch 960 done! loss = 5366.99\n",
      "Epoch 965 done! loss = 5238.44\n",
      "Epoch 970 done! loss = 5276.95\n",
      "Epoch 975 done! loss = 5149.69\n",
      "Epoch 980 done! loss = 7514.42\n",
      "Epoch 985 done! loss = 6800.49\n",
      "Epoch 990 done! loss = 6799.91\n",
      "Epoch 995 done! loss = 4129.58\n",
      "Epoch 1000 done! loss = 4892.32\n"
     ]
    }
   ],
   "source": [
    "genmlp_multi.train(\n",
    "    epochs=1000, x_train=multi_x, y_train=multi_y,\n",
    "    verbosity_period=5,\n",
    ")"
   ]
  },
  {
   "cell_type": "code",
   "execution_count": 20,
   "metadata": {},
   "outputs": [
    {
     "data": {
      "image/png": "[encoded data removed]",
      "text/plain": [
       "<Figure size 800x600 with 1 Axes>"
      ]
     },
     "metadata": {},
     "output_type": "display_data"
    }
   ],
   "source": [
    "plt.scatter(multi_x, multi_y, color='blue', label='True values')\n",
    "plt.scatter(multi_x, genmlp_multi.predict(multi_x, multi_y), color='red', label='Predictions')\n",
    "plt.title(f'MSE: 4892.32')\n",
    "plt.legend()\n",
    "plt.show()"
   ]
  },
  {
   "attachments": {},
   "cell_type": "markdown",
   "metadata": {},
   "source": [
    "# `auto_mpg`"
   ]
  },
  {
   "cell_type": "code",
   "execution_count": 4,
   "metadata": {},
   "outputs": [],
   "source": [
    "auto = pd.read_csv('data/auto-mpg.data', header=None, delim_whitespace=True)\n",
    "auto_x = auto[[1, 2, 4, 5, 6, 7]].to_numpy().reshape((-1, 6))\n",
    "auto_y = auto[0].to_numpy().reshape((-1, 1))"
   ]
  },
  {
   "cell_type": "code",
   "execution_count": 7,
   "metadata": {},
   "outputs": [
    {
     "data": {
      "text/html": [
       "<div>\n",
       "<style scoped>\n",
       "    .dataframe tbody tr th:only-of-type {\n",
       "        vertical-align: middle;\n",
       "    }\n",
       "\n",
       "    .dataframe tbody tr th {\n",
       "        vertical-align: top;\n",
       "    }\n",
       "\n",
       "    .dataframe thead th {\n",
       "        text-align: right;\n",
       "    }\n",
       "</style>\n",
       "<table border=\"1\" class=\"dataframe\">\n",
       "  <thead>\n",
       "    <tr style=\"text-align: right;\">\n",
       "      <th></th>\n",
       "      <th>y</th>\n",
       "    </tr>\n",
       "  </thead>\n",
       "  <tbody>\n",
       "    <tr>\n",
       "      <th>count</th>\n",
       "      <td>398.000000</td>\n",
       "    </tr>\n",
       "    <tr>\n",
       "      <th>mean</th>\n",
       "      <td>23.514573</td>\n",
       "    </tr>\n",
       "    <tr>\n",
       "      <th>std</th>\n",
       "      <td>7.815984</td>\n",
       "    </tr>\n",
       "    <tr>\n",
       "      <th>min</th>\n",
       "      <td>9.000000</td>\n",
       "    </tr>\n",
       "    <tr>\n",
       "      <th>25%</th>\n",
       "      <td>17.500000</td>\n",
       "    </tr>\n",
       "    <tr>\n",
       "      <th>50%</th>\n",
       "      <td>23.000000</td>\n",
       "    </tr>\n",
       "    <tr>\n",
       "      <th>75%</th>\n",
       "      <td>29.000000</td>\n",
       "    </tr>\n",
       "    <tr>\n",
       "      <th>max</th>\n",
       "      <td>46.600000</td>\n",
       "    </tr>\n",
       "  </tbody>\n",
       "</table>\n",
       "</div>"
      ],
      "text/plain": [
       "                y\n",
       "count  398.000000\n",
       "mean    23.514573\n",
       "std      7.815984\n",
       "min      9.000000\n",
       "25%     17.500000\n",
       "50%     23.000000\n",
       "75%     29.000000\n",
       "max     46.600000"
      ]
     },
     "execution_count": 7,
     "metadata": {},
     "output_type": "execute_result"
    }
   ],
   "source": [
    "pd.DataFrame({'y': auto_y.flatten()}).describe()"
   ]
  },
  {
   "cell_type": "code",
   "execution_count": 49,
   "metadata": {},
   "outputs": [],
   "source": [
    "genmlp_auto = GeneticMLP(\n",
    "    input_size=6, hidden_layers_sizes=[10, 10], output_size=1,\n",
    "    activation_func=SigmoidActivation(), out_func=LinearActivation(),\n",
    "    loss=MSE(),\n",
    "    population_size=100, random_state=26,\n",
    ")"
   ]
  },
  {
   "cell_type": "code",
   "execution_count": 50,
   "metadata": {},
   "outputs": [
    {
     "name": "stdout",
     "output_type": "stream",
     "text": [
      "Epoch 20 done! loss = 18.74\n",
      "Epoch 40 done! loss = 18.74\n",
      "Epoch 60 done! loss = 18.74\n",
      "Epoch 80 done! loss = 17.73\n",
      "Epoch 100 done! loss = 17.73\n",
      "Epoch 120 done! loss = 17.73\n",
      "Epoch 140 done! loss = 17.73\n",
      "Epoch 160 done! loss = 17.73\n",
      "Epoch 180 done! loss = 17.73\n",
      "Epoch 200 done! loss = 17.73\n",
      "Epoch 220 done! loss = 17.73\n",
      "Epoch 240 done! loss = 17.73\n",
      "Epoch 260 done! loss = 17.73\n",
      "Epoch 280 done! loss = 17.73\n",
      "Epoch 300 done! loss = 17.73\n",
      "Epoch 320 done! loss = 17.73\n",
      "Epoch 340 done! loss = 17.73\n",
      "Epoch 360 done! loss = 17.73\n",
      "Epoch 380 done! loss = 17.73\n",
      "Epoch 400 done! loss = 17.73\n",
      "Epoch 420 done! loss = 17.42\n",
      "Epoch 440 done! loss = 17.73\n",
      "Epoch 460 done! loss = 17.73\n",
      "Epoch 480 done! loss = 17.73\n",
      "Epoch 500 done! loss = 17.73\n",
      "Epoch 520 done! loss = 17.73\n",
      "Epoch 540 done! loss = 17.73\n",
      "Epoch 560 done! loss = 17.73\n",
      "Epoch 580 done! loss = 17.73\n",
      "Epoch 600 done! loss = 17.73\n"
     ]
    }
   ],
   "source": [
    "genmlp_auto.train(\n",
    "    epochs=600, x_train=auto_x, y_train=auto_y,\n",
    "    verbosity_period=20,\n",
    ")"
   ]
  },
  {
   "cell_type": "code",
   "execution_count": 9,
   "metadata": {},
   "outputs": [
    {
     "data": {
      "text/plain": [
       "4.21070065428546"
      ]
     },
     "execution_count": 9,
     "metadata": {},
     "output_type": "execute_result"
    }
   ],
   "source": [
    "np.sqrt(17.73)"
   ]
  },
  {
   "cell_type": "code",
   "execution_count": null,
   "metadata": {},
   "outputs": [],
   "source": []
  }
 ],
 "metadata": {
  "kernelspec": {
   "display_name": "venv",
   "language": "python",
   "name": "python3"
  },
  "language_info": {
   "codemirror_mode": {
    "name": "ipython",
    "version": 3
   },
   "file_extension": ".py",
   "mimetype": "text/x-python",
   "name": "python",
   "nbconvert_exporter": "python",
   "pygments_lexer": "ipython3",
   "version": "3.10.6"
  },
  "orig_nbformat": 4
 },
 "nbformat": 4,
 "nbformat_minor": 2
}
