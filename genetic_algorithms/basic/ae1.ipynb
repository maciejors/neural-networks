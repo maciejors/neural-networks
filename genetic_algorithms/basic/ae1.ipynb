{
 "cells": [
  {
   "cell_type": "code",
   "execution_count": 1,
   "metadata": {},
   "outputs": [],
   "source": [
    "import numpy as np\n",
    "\n",
    "from ae1 import BaseGenetic"
   ]
  },
  {
   "attachments": {},
   "cell_type": "markdown",
   "metadata": {},
   "source": [
    "## Square function\n",
    "\n",
    "$f(x) = x_1^2 + x_2^2 + 2x_3^2$\n",
    "\n",
    "- Global minimum: $f(0) = 0$"
   ]
  },
  {
   "cell_type": "code",
   "execution_count": 2,
   "metadata": {},
   "outputs": [],
   "source": [
    "def f_square(x: np.ndarray) -> float:\n",
    "    return x[0]**2 + x[1]**2 + 2 * x[2]**2"
   ]
  },
  {
   "cell_type": "code",
   "execution_count": 3,
   "metadata": {},
   "outputs": [],
   "source": [
    "gen_square = BaseGenetic(\n",
    "    input_dim=3, population_size=100, loss_fn=f_square, random_state=33, init_interval_radius=1000,\n",
    ")"
   ]
  },
  {
   "cell_type": "code",
   "execution_count": 4,
   "metadata": {},
   "outputs": [
    {
     "name": "stdout",
     "output_type": "stream",
     "text": [
      "Epoch 20 done! Current loss value: 57958.611781422835\n",
      "Epoch 40 done! Current loss value: 44457.115842851425\n",
      "Epoch 60 done! Current loss value: 30938.934809323513\n",
      "Epoch 80 done! Current loss value: 19796.378235386568\n",
      "Epoch 100 done! Current loss value: 11526.631068556411\n",
      "Epoch 120 done! Current loss value: 5117.421827102339\n",
      "Epoch 140 done! Current loss value: 1327.3324453026885\n",
      "Epoch 160 done! Current loss value: 0.9919010257742515\n",
      "Epoch 180 done! Current loss value: 0.018479067645112143\n",
      "Epoch 200 done! Current loss value: 0.018479067645112143\n",
      "Epoch 220 done! Current loss value: 0.003233161586803739\n",
      "Epoch 240 done! Current loss value: 0.003233161586803739\n",
      "Epoch 260 done! Current loss value: 0.003233161586803739\n",
      "Epoch 280 done! Current loss value: 0.003233161586803739\n",
      "Epoch 300 done! Current loss value: 0.003233161586803739\n"
     ]
    }
   ],
   "source": [
    "gen_square.train(epochs=300, verbosity_period=20)"
   ]
  },
  {
   "attachments": {},
   "cell_type": "markdown",
   "metadata": {},
   "source": [
    "## 5-dimensional Rastrigin function\n",
    "\n",
    "$f(x) = 50 + \\sum_{i=1}^{n} [x_i^2 - 10cos(2\\pi x_i)]$\n",
    "\n",
    "- Global minimum: $f(0) = 0$\n",
    "- Constraints: $x_i \\in [-5.12, 5.12]$"
   ]
  },
  {
   "cell_type": "code",
   "execution_count": 5,
   "metadata": {},
   "outputs": [],
   "source": [
    "def f_rastrigin(x: np.ndarray) -> float:\n",
    "    if any(np.abs(x) > 5.12):\n",
    "        # penalty for not meeting the constraints\n",
    "        return 9999999999999\n",
    "    rsum = np.sum(x**2 - 10 * np.cos(2 * np.pi * x))\n",
    "    return 50 + rsum"
   ]
  },
  {
   "cell_type": "code",
   "execution_count": 6,
   "metadata": {},
   "outputs": [],
   "source": [
    "gen_rastrigin = BaseGenetic(\n",
    "    input_dim=3, population_size=100, loss_fn=f_square, random_state=33, init_interval_radius=1000,\n",
    ")"
   ]
  },
  {
   "cell_type": "code",
   "execution_count": 7,
   "metadata": {},
   "outputs": [
    {
     "name": "stdout",
     "output_type": "stream",
     "text": [
      "Epoch 20 done! Current loss value: 57958.611781422835\n",
      "Epoch 40 done! Current loss value: 44457.115842851425\n",
      "Epoch 60 done! Current loss value: 30938.934809323513\n",
      "Epoch 80 done! Current loss value: 19796.378235386568\n",
      "Epoch 100 done! Current loss value: 11526.631068556411\n",
      "Epoch 120 done! Current loss value: 5117.421827102339\n",
      "Epoch 140 done! Current loss value: 1327.3324453026885\n",
      "Epoch 160 done! Current loss value: 0.9919010257742515\n",
      "Epoch 180 done! Current loss value: 0.018479067645112143\n",
      "Epoch 200 done! Current loss value: 0.018479067645112143\n",
      "Epoch 220 done! Current loss value: 0.003233161586803739\n",
      "Epoch 240 done! Current loss value: 0.003233161586803739\n",
      "Epoch 260 done! Current loss value: 0.003233161586803739\n",
      "Epoch 280 done! Current loss value: 0.003233161586803739\n",
      "Epoch 300 done! Current loss value: 0.003233161586803739\n"
     ]
    }
   ],
   "source": [
    "gen_rastrigin.train(epochs=300, verbosity_period=20)"
   ]
  }
 ],
 "metadata": {
  "kernelspec": {
   "display_name": "venv",
   "language": "python",
   "name": "python3"
  },
  "language_info": {
   "codemirror_mode": {
    "name": "ipython",
    "version": 3
   },
   "file_extension": ".py",
   "mimetype": "text/x-python",
   "name": "python",
   "nbconvert_exporter": "python",
   "pygments_lexer": "ipython3",
   "version": "3.10.6"
  },
  "orig_nbformat": 4
 },
 "nbformat": 4,
 "nbformat_minor": 2
}
